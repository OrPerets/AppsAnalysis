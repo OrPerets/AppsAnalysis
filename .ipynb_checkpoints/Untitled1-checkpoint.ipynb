{
 "cells": [
  {
   "cell_type": "code",
   "execution_count": 1,
   "id": "f03f034c",
   "metadata": {},
   "outputs": [],
   "source": [
    "import pandas as pd\n",
    "import numpy as np\n",
    "import matplotlib.pyplot as plt\n",
    "from sklearn.model_selection import train_test_split\n",
    "from sklearn import preprocessing\n",
    "from sklearn.preprocessing import MinMaxScaler\n",
    "from sklearn.ensemble import RandomForestRegressor\n",
    "from sklearn.linear_model import LinearRegression\n",
    "import math\n",
    "from sklearn import metrics\n",
    "from sklearn.metrics import accuracy_score, confusion_matrix, mean_squared_error\n",
    "from sklearn.metrics import r2_score\n",
    "from sklearn.neighbors import KNeighborsClassifier\n",
    "from sklearn import svm\n",
    "from sklearn import tree\n",
    "from sklearn.tree import export_text\n",
    "import seaborn as sns"
   ]
  },
  {
   "cell_type": "code",
   "execution_count": 2,
   "id": "4dbaa34d",
   "metadata": {},
   "outputs": [],
   "source": [
    "import pandas as pd\n",
    "\n",
    "data = pd.read_csv(\"learning_data.csv\")\n",
    "data.drop(columns=[\"Unnamed: 0\",\"App_Id\"],inplace=True)\n",
    "le = preprocessing.LabelEncoder()\n",
    "data[\"Category\"]=le.fit_transform(data[\"Category\"])\n",
    "scalar=MinMaxScaler()\n",
    "df_for_rating=data.copy()\n",
    "df_for_rating[\"Rating\"]=df_for_rating[\"Rating\"].apply(lambda x: math.floor(x) if x + 0.5 == math.ceil(x) else round(x)) # Rounding rating column\n",
    "X=df_for_rating.drop(columns=[\"Rating\"]).copy()\n",
    "Y=df_for_rating[\"Rating\"].copy()\n",
    "knn_df=pd.DataFrame(scalar.fit_transform(X),columns=X.columns) #normalizing the DataFrame without rating column\n",
    "knn_df[\"Rating\"]=Y\n",
    "X_train, X_test, y_train, y_test = train_test_split(knn_df.drop(columns=[\"Rating\"]), knn_df[\"Rating\"], test_size=0.05, random_state=42)"
   ]
  },
  {
   "cell_type": "code",
   "execution_count": null,
   "id": "28571bae",
   "metadata": {},
   "outputs": [],
   "source": [
    "error_rate = []\n",
    "for i in range(1,4):\n",
    "    print(i)\n",
    "    knn = KNeighborsClassifier(n_neighbors=i)\n",
    "    knn.fit(X_train,y_train)\n",
    "    pred_i = knn.predict(X_test)\n",
    "    error_rate.append(np.mean(pred_i != y_test))\n",
    "    print(\"Done\")\n",
    "print(error_rate)\n",
    "plt.figure(figsize=(10,6))\n",
    "plt.plot(range(1,4),error_rate,color='blue', linestyle='dashed', marker='o',markerfacecolor='red', markersize=10)\n",
    "plt.title('Error Rate vs. K Value')\n",
    "plt.xlabel('K')\n",
    "plt.ylabel('Error Rate')"
   ]
  },
  {
   "cell_type": "code",
   "execution_count": null,
   "id": "4bd7975c",
   "metadata": {},
   "outputs": [],
   "source": []
  }
 ],
 "metadata": {
  "kernelspec": {
   "display_name": "Python 3",
   "language": "python",
   "name": "python3"
  },
  "language_info": {
   "codemirror_mode": {
    "name": "ipython",
    "version": 3
   },
   "file_extension": ".py",
   "mimetype": "text/x-python",
   "name": "python",
   "nbconvert_exporter": "python",
   "pygments_lexer": "ipython3",
   "version": "3.8.8"
  }
 },
 "nbformat": 4,
 "nbformat_minor": 5
}
